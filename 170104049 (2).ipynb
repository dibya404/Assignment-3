{
  "nbformat": 4,
  "nbformat_minor": 0,
  "metadata": {
    "colab": {
      "name": "170104049.ipynb",
      "provenance": [],
      "collapsed_sections": []
    },
    "kernelspec": {
      "name": "python3",
      "display_name": "Python 3"
    },
    "language_info": {
      "name": "python"
    },
    "accelerator": "GPU"
  },
  "cells": [
    {
      "cell_type": "code",
      "metadata": {
        "id": "rR21Z9SBxH79"
      },
      "source": [
        "import pandas as pd\n",
        "import numpy as np\n",
        "import math\n",
        "import re\n",
        "import random\n",
        "from keras.preprocessing.text import Tokenizer\n",
        "from keras.preprocessing.sequence import pad_sequences\n",
        "from keras.models import Sequential\n",
        "from keras.layers import Dense, Embedding, LSTM, SpatialDropout1D, SimpleRNN\n",
        "from keras.layers import Dropout\n",
        "from keras.utils.np_utils import to_categorical\n",
        "from sklearn.model_selection import train_test_split\n",
        "from sklearn.metrics import f1_score, precision_score, recall_score\n",
        "from sklearn.metrics import classification_report, confusion_matrix\n",
        "import matplotlib as mpl\n",
        "import matplotlib.pyplot as plt\n",
        "import seaborn as sb\n"
      ],
      "execution_count": 1,
      "outputs": []
    },
    {
      "cell_type": "code",
      "metadata": {
        "colab": {
          "base_uri": "https://localhost:8080/"
        },
        "id": "uKgLjqMcxSk6",
        "outputId": "7d53c3db-eb5a-45f4-ab1a-74606dbae1aa"
      },
      "source": [
        "from google.colab import drive\n",
        "drive.mount('/content/drive/')"
      ],
      "execution_count": 2,
      "outputs": [
        {
          "output_type": "stream",
          "name": "stdout",
          "text": [
            "Mounted at /content/drive/\n"
          ]
        }
      ]
    },
    {
      "cell_type": "code",
      "metadata": {
        "id": "-cp4QOYmxUjc"
      },
      "source": [
        "df = pd.read_csv('/content/drive/MyDrive/Soft Computing/Assignment 3/Dataset_1.csv', encoding = \"ISO-8859-1\", engine='python')"
      ],
      "execution_count": 3,
      "outputs": []
    },
    {
      "cell_type": "markdown",
      "metadata": {
        "id": "rPmEfCxZFEFa"
      },
      "source": [
        "# Preprocessing"
      ]
    },
    {
      "cell_type": "code",
      "metadata": {
        "id": "dRecrJC4xi_4"
      },
      "source": [
        "# removing mentions, links, tags\n",
        "\n",
        "import re\n",
        "\n",
        "def preprocessing(text):\n",
        "    text = re.sub(r'@[A-Za-z0-9]+', '', text)     # removing @mentions\n",
        "    text = re.sub(r'@[A-Za-zA-Z0-9]+', '', text)  # removing @mentions \n",
        "    text = re.sub(r'@[A-Za-z]+', '', text)        # removing @mentions\n",
        "    text = re.sub(r'@[-)]+', '', text)            # removing @mentions\n",
        "    text = re.sub(r'https?\\/\\/\\S+', '', text)     # removing the hyper link\n",
        "    text = re.sub(r'http?\\/\\/\\S+', '', text)     # removing the hyper link\n",
        "    text = re.sub(r'#', '', text )              # removing '#' sign\n",
        "    text = re.sub(r'RT[\\s]+', '', text)         # removing RT\n",
        "    text = re.sub(r'&[a-z;]+', '', text)        # removing '&gt;'\n",
        "    return text\n",
        "\n"
      ],
      "execution_count": 4,
      "outputs": []
    },
    {
      "cell_type": "code",
      "metadata": {
        "id": "OELStpUAxz9T"
      },
      "source": [
        "df['message'] = df['message'].apply(preprocessing)"
      ],
      "execution_count": 5,
      "outputs": []
    },
    {
      "cell_type": "code",
      "metadata": {
        "id": "GbMLoxkjv6__",
        "colab": {
          "base_uri": "https://localhost:8080/",
          "height": 203
        },
        "outputId": "8c62c05e-02cd-426e-e57b-b31415abfdcb"
      },
      "source": [
        "df.head()"
      ],
      "execution_count": 6,
      "outputs": [
        {
          "output_type": "execute_result",
          "data": {
            "text/html": [
              "<div>\n",
              "<style scoped>\n",
              "    .dataframe tbody tr th:only-of-type {\n",
              "        vertical-align: middle;\n",
              "    }\n",
              "\n",
              "    .dataframe tbody tr th {\n",
              "        vertical-align: top;\n",
              "    }\n",
              "\n",
              "    .dataframe thead th {\n",
              "        text-align: right;\n",
              "    }\n",
              "</style>\n",
              "<table border=\"1\" class=\"dataframe\">\n",
              "  <thead>\n",
              "    <tr style=\"text-align: right;\">\n",
              "      <th></th>\n",
              "      <th>message</th>\n",
              "      <th>label</th>\n",
              "    </tr>\n",
              "  </thead>\n",
              "  <tbody>\n",
              "    <tr>\n",
              "      <th>0</th>\n",
              "      <td>just had a real good moment. i missssssssss hi...</td>\n",
              "      <td>0</td>\n",
              "    </tr>\n",
              "    <tr>\n",
              "      <th>1</th>\n",
              "      <td>is reading manga  http://plurk.com/p/mzp1e</td>\n",
              "      <td>0</td>\n",
              "    </tr>\n",
              "    <tr>\n",
              "      <th>2</th>\n",
              "      <td>http://twitpic.com/2y2lx - http://www.youtube...</td>\n",
              "      <td>0</td>\n",
              "    </tr>\n",
              "    <tr>\n",
              "      <th>3</th>\n",
              "      <td>Need to send 'em to my accountant tomorrow. O...</td>\n",
              "      <td>0</td>\n",
              "    </tr>\n",
              "    <tr>\n",
              "      <th>4</th>\n",
              "      <td>ADD ME ON MYSPACE!!!  myspace.com/LookThunder</td>\n",
              "      <td>0</td>\n",
              "    </tr>\n",
              "  </tbody>\n",
              "</table>\n",
              "</div>"
            ],
            "text/plain": [
              "                                             message  label\n",
              "0  just had a real good moment. i missssssssss hi...      0\n",
              "1         is reading manga  http://plurk.com/p/mzp1e      0\n",
              "2   http://twitpic.com/2y2lx - http://www.youtube...      0\n",
              "3   Need to send 'em to my accountant tomorrow. O...      0\n",
              "4      ADD ME ON MYSPACE!!!  myspace.com/LookThunder      0"
            ]
          },
          "metadata": {},
          "execution_count": 6
        }
      ]
    },
    {
      "cell_type": "markdown",
      "metadata": {
        "id": "nSNvIKSYFO6g"
      },
      "source": [
        "## Vectorization"
      ]
    },
    {
      "cell_type": "code",
      "metadata": {
        "id": "dU4OMP86x7Bd"
      },
      "source": [
        "dataset = df\n",
        "unique_label = np.unique(df[\"label\"])\n",
        "num_classes = len(unique_label)\n",
        "\n",
        "from sklearn.model_selection import train_test_split\n",
        "X_train, X_test, y_train, y_test = train_test_split(dataset['message'].values, pd.get_dummies(dataset['label']).values, test_size=0.20)\n",
        "\n",
        "tokenizer = Tokenizer(num_words=25000)\n",
        "tokenizer.fit_on_texts(X_train)\n",
        "tokenizer.fit_on_texts(X_test)\n",
        "word_index = tokenizer.word_index\n",
        "\n",
        "train_seq = tokenizer.texts_to_sequences(X_train)\n",
        "test_seq = tokenizer.texts_to_sequences(X_test)\n",
        "pad_train = pad_sequences(train_seq, maxlen=100)\n",
        "pad_test = pad_sequences(test_seq, maxlen=100)\n",
        "\n"
      ],
      "execution_count": 7,
      "outputs": []
    },
    {
      "cell_type": "markdown",
      "metadata": {
        "id": "e6qk3igOFKMx"
      },
      "source": [
        "## Model"
      ]
    },
    {
      "cell_type": "code",
      "metadata": {
        "colab": {
          "base_uri": "https://localhost:8080/"
        },
        "id": "p_Wv2iavQgrU",
        "outputId": "299f8376-8f58-4890-cbab-73057e45a81f"
      },
      "source": [
        "model = Sequential()\n",
        "model.add(Embedding(25000, 100, input_length=pad_train.shape[1]))\n",
        "model.add(LSTM(100, activation= 'tanh', return_sequences=True))\n",
        "model.add(LSTM(100, activation= 'tanh', return_sequences=True))\n",
        "model.add(LSTM(100, activation= 'tanh'))\n",
        "model.add(Dense(2, activation='sigmoid'))\n",
        "\n",
        "\n",
        "model.compile(loss='binary_crossentropy', optimizer='adam', metrics=['accuracy']) \n",
        "model.summary()\n",
        "\n",
        "epochs = 10\n",
        "batch_size = 64"
      ],
      "execution_count": 9,
      "outputs": [
        {
          "output_type": "stream",
          "name": "stdout",
          "text": [
            "Model: \"sequential_1\"\n",
            "_________________________________________________________________\n",
            "Layer (type)                 Output Shape              Param #   \n",
            "=================================================================\n",
            "embedding_1 (Embedding)      (None, 100, 100)          2500000   \n",
            "_________________________________________________________________\n",
            "lstm_3 (LSTM)                (None, 100, 100)          80400     \n",
            "_________________________________________________________________\n",
            "lstm_4 (LSTM)                (None, 100, 100)          80400     \n",
            "_________________________________________________________________\n",
            "lstm_5 (LSTM)                (None, 100)               80400     \n",
            "_________________________________________________________________\n",
            "dense_1 (Dense)              (None, 2)                 202       \n",
            "=================================================================\n",
            "Total params: 2,741,402\n",
            "Trainable params: 2,741,402\n",
            "Non-trainable params: 0\n",
            "_________________________________________________________________\n"
          ]
        }
      ]
    },
    {
      "cell_type": "code",
      "metadata": {
        "colab": {
          "base_uri": "https://localhost:8080/"
        },
        "id": "QHBVsNiadqbd",
        "outputId": "d85fb3ac-211e-4920-ae09-2ab2fa1a46c9"
      },
      "source": [
        "history = model.fit(pad_train, y_train, epochs=epochs, batch_size=batch_size)"
      ],
      "execution_count": 10,
      "outputs": [
        {
          "output_type": "stream",
          "name": "stdout",
          "text": [
            "Epoch 1/10\n",
            "129/129 [==============================] - 16s 85ms/step - loss: 0.2434 - accuracy: 0.9143\n",
            "Epoch 2/10\n",
            "129/129 [==============================] - 10s 80ms/step - loss: 0.0156 - accuracy: 0.9971\n",
            "Epoch 3/10\n",
            "129/129 [==============================] - 9s 72ms/step - loss: 0.0070 - accuracy: 0.9985\n",
            "Epoch 4/10\n",
            "129/129 [==============================] - 9s 71ms/step - loss: 0.0604 - accuracy: 0.9921\n",
            "Epoch 5/10\n",
            "129/129 [==============================] - 9s 71ms/step - loss: 0.0055 - accuracy: 0.9992\n",
            "Epoch 6/10\n",
            "129/129 [==============================] - 9s 71ms/step - loss: 0.0036 - accuracy: 0.9996\n",
            "Epoch 7/10\n",
            "129/129 [==============================] - 9s 71ms/step - loss: 0.0031 - accuracy: 0.9995\n",
            "Epoch 8/10\n",
            "129/129 [==============================] - 9s 70ms/step - loss: 0.0024 - accuracy: 0.9995\n",
            "Epoch 9/10\n",
            "129/129 [==============================] - 9s 68ms/step - loss: 0.0021 - accuracy: 0.9995\n",
            "Epoch 10/10\n",
            "129/129 [==============================] - 9s 68ms/step - loss: 0.0016 - accuracy: 0.9996\n"
          ]
        }
      ]
    },
    {
      "cell_type": "code",
      "metadata": {
        "colab": {
          "base_uri": "https://localhost:8080/"
        },
        "id": "d3f3jcGIZz_Y",
        "outputId": "4d113cdd-04c0-46ac-f1b6-fe4aa733ec93"
      },
      "source": [
        "evaluation = model.evaluate(pad_test,y_test)\n",
        "accuracy = evaluation[1] * 100\n",
        "print(\"Accuracy is : \", accuracy)"
      ],
      "execution_count": 11,
      "outputs": [
        {
          "output_type": "stream",
          "name": "stdout",
          "text": [
            "65/65 [==============================] - 3s 29ms/step - loss: 0.0331 - accuracy: 0.9947\n",
            "Accuracy is :  99.46679472923279\n"
          ]
        }
      ]
    },
    {
      "cell_type": "code",
      "metadata": {
        "colab": {
          "base_uri": "https://localhost:8080/",
          "height": 295
        },
        "id": "jKQJYtRVQnEc",
        "outputId": "616ccf9f-57c1-4ca8-f037-b63027fe83ec"
      },
      "source": [
        "import matplotlib.pyplot as plt\n",
        "\n",
        "plt.plot(history.history['accuracy'])\n",
        "plt.title('model accuracy')\n",
        "plt.ylabel('accuracy')\n",
        "plt.xlabel('epoch')\n",
        "plt.legend(['train', 'test'], loc='upper left')\n",
        "plt.show()"
      ],
      "execution_count": 15,
      "outputs": [
        {
          "output_type": "display_data",
          "data": {
            "image/png": "[encoded data removed]",
            "text/plain": [
              "<Figure size 432x288 with 1 Axes>"
            ]
          },
          "metadata": {
            "needs_background": "light"
          }
        }
      ]
    },
    {
      "cell_type": "code",
      "metadata": {
        "colab": {
          "base_uri": "https://localhost:8080/",
          "height": 295
        },
        "id": "0p_WKPFryMgd",
        "outputId": "42162e56-d9fe-46a8-d3ed-758d68721b14"
      },
      "source": [
        "y_pred = model.predict(pad_test)\n",
        "\n",
        "new_y_pred = np.argmax(y_pred, axis=1)\n",
        "new_y_test = np.argmax(y_test, axis=1)\n",
        "\n",
        "conf_arr = np.zeros((num_classes, num_classes))\n",
        "\n",
        "for i in range(len(new_y_pred)):\n",
        "        conf_arr[new_y_pred[i]][new_y_test[i]] += 1\n",
        "\n",
        "df_cm = pd.DataFrame(conf_arr, index = unique_label, columns = unique_label)\n",
        "\n",
        "\n",
        "\n",
        "fig = plt.figure()\n",
        "plt.clf()\n",
        "\n",
        "ax = fig.add_subplot()\n",
        "ax.set_aspect(1)\n",
        "\n",
        "res = sb.heatmap(df_cm, annot=True, fmt='.2f')\n",
        "\n",
        "plt.title('Confusion Matrix')\n",
        "plt.ylabel('Predicted')\n",
        "plt.xlabel('True')\n",
        "plt.show()"
      ],
      "execution_count": 16,
      "outputs": [
        {
          "output_type": "display_data",
          "data": {
            "image/png": "[encoded data removed]",
            "text/plain": [
              "<Figure size 432x288 with 2 Axes>"
            ]
          },
          "metadata": {
            "needs_background": "light"
          }
        }
      ]
    },
    {
      "cell_type": "code",
      "metadata": {
        "colab": {
          "base_uri": "https://localhost:8080/"
        },
        "id": "-1rb3x9RnQrk",
        "outputId": "6ca66322-7f51-4c3f-ddf9-37ff06e36a19"
      },
      "source": [
        "print(classification_report(new_y_test, new_y_pred))"
      ],
      "execution_count": 17,
      "outputs": [
        {
          "output_type": "stream",
          "name": "stdout",
          "text": [
            "              precision    recall  f1-score   support\n",
            "\n",
            "           0       0.99      1.00      1.00      1599\n",
            "           1       1.00      0.98      0.99       464\n",
            "\n",
            "    accuracy                           0.99      2063\n",
            "   macro avg       1.00      0.99      0.99      2063\n",
            "weighted avg       0.99      0.99      0.99      2063\n",
            "\n"
          ]
        }
      ]
    },
    {
      "cell_type": "code",
      "metadata": {
        "colab": {
          "base_uri": "https://localhost:8080/"
        },
        "id": "feaYt21joMAS",
        "outputId": "b14fe209-f4ec-45e0-9f7c-900791403f38"
      },
      "source": [
        "precision =   precision_score(new_y_test, new_y_pred) * 100\n",
        "recall =  recall_score(new_y_test, new_y_pred) * 100\n",
        "f1_score =  f1_score(new_y_test, new_y_pred) * 100\n",
        "print(precision)\n",
        "print(f1_score)\n",
        "print(recall)"
      ],
      "execution_count": 18,
      "outputs": [
        {
          "output_type": "stream",
          "name": "stdout",
          "text": [
            "99.56236323851203\n",
            "98.80564603691639\n",
            "98.0603448275862\n"
          ]
        }
      ]
    },
    {
      "cell_type": "code",
      "metadata": {
        "colab": {
          "base_uri": "https://localhost:8080/",
          "height": 340
        },
        "id": "arKSoAU9K1ub",
        "outputId": "0ff677a2-0fb5-40c8-d946-5b9c2d170a55"
      },
      "source": [
        "import matplotlib.pyplot as plt\n",
        "fig = plt.figure()\n",
        "ax = fig.add_axes([0,0,1,1])\n",
        "label = ['Accuracy', 'Precision', 'F1-score', 'Recall']\n",
        "value = [accuracy,precision,f1_score,recall]\n",
        "ax.bar(label,value)\n",
        "plt.ylim(90,100)\n",
        "plt.show()"
      ],
      "execution_count": 20,
      "outputs": [
        {
          "output_type": "display_data",
          "data": {
            "image/png": "[encoded data removed]",
            "text/plain": [
              "<Figure size 432x288 with 1 Axes>"
            ]
          },
          "metadata": {
            "needs_background": "light"
          }
        }
      ]
    },
    {
      "cell_type": "code",
      "metadata": {
        "id": "wKK3S4MUfH6D"
      },
      "source": [
        ""
      ],
      "execution_count": null,
      "outputs": []
    }
  ]
}